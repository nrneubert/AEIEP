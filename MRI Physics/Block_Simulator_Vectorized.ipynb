{
 "cells": [
  {
   "cell_type": "markdown",
   "metadata": {},
   "source": [
    "#### Note: Does <u>not</u> work...."
   ]
  },
  {
   "cell_type": "code",
   "execution_count": null,
   "metadata": {},
   "outputs": [],
   "source": [
    "import numpy as np\n",
    "from scipy.integrate import solve_ivp\n",
    "import warnings\n",
    "\n",
    "class Bloch_Simulator:\n",
    "    def __init__(self, gamma=2.675 * 1e8,         # rad/(T*s) \n",
    "                       T1=1000 * 1e-3, T2=1000 * 1e-3,   # s \n",
    "                       M0=1.0, \n",
    "                       phi=0.0, \n",
    "                       omega_1=0.25 * 1e4,           # 1/s \n",
    "                       delta_omega=0.0,              # 1/s \n",
    "                       nz=1.0,                       # nmb. \n",
    "                       tw=1 * 1e-3,                  # s \n",
    "                       G=None, \n",
    "                       lower_bound=-np.inf, upper_bound=np.inf\n",
    "                    ) -> None:\n",
    "        # Constants\n",
    "        self.delta_x = 2 * 1e-3  # m\n",
    "        # Parameters\n",
    "        self.gamma = gamma\n",
    "        self.T1 = T1\n",
    "        self.T2 = T2\n",
    "        self.M0 = M0\n",
    "        self.phi = phi\n",
    "        self.omega_1 = omega_1\n",
    "        self.delta_omega = delta_omega\n",
    "        self.nz = nz\n",
    "        self.tw = tw\n",
    "        if G is None:\n",
    "            self.G = 2*np.pi/(self.gamma*self.tw*self.delta_x)\n",
    "        else:\n",
    "            self.G = G\n",
    "        # Pulse bounds\n",
    "        self.lower_bound = lower_bound\n",
    "        self.upper_bound = upper_bound\n",
    "        # Logged information\n",
    "        self.last_solution = None\n",
    "    \n",
    "\n",
    "    def copy(self) : \n",
    "        return Bloch_Simulator(self.gamma, self.T1, self.T2, self.M0, self.phi, self.omega_1, \n",
    "                               self.delta_omega, self.nz, self.tw, self.G, self.lower_bound, self.upper_bound)\n",
    "    \n",
    "    def _safe_sinc(self, x):\n",
    "        # x can be an array\n",
    "        return np.where(np.isclose(x, 0.0), 1.0, np.sin(x)/x)\n",
    "\n",
    "    def _get_Beff(self, t: float, x: np.ndarray, apply_sinc: bool) -> np.ndarray:\n",
    "        B1 = self._get_omega1(t) / self.gamma\n",
    "        Beff = np.zeros((x.size, 3))\n",
    "        Beff[:, 0] = B1 * np.cos(self.phi)\n",
    "        Beff[:, 1] = B1 * np.sin(self.phi)\n",
    "        Beff[:, 2] = self.delta_omega / self.gamma\n",
    "\n",
    "        if apply_sinc:\n",
    "            arg = 2 * np.pi * t / self.tw\n",
    "            Beff *= self._safe_sinc(arg)\n",
    "        \n",
    "        Beff[:, 2] += self.G * x\n",
    "\n",
    "        return Beff\n",
    "\n",
    "    def _get_omega1(self, t: float) -> float: \n",
    "        if self.lower_bound <= t <= self.upper_bound:\n",
    "            return self.omega_1\n",
    "        else:\n",
    "            return 0\n",
    "\n",
    "    def _diff_eqn(self, t: float, M_flat: np.ndarray, x: np.ndarray, apply_sinc: bool) -> np.ndarray:\n",
    "        # Check if M_flat is 1D (non-vectorized) or 2D (vectorized)\n",
    "        if M_flat.ndim == 1:\n",
    "            # Non-vectorized: reshape into (N, 3) where N = number of spatial positions.\n",
    "            M = M_flat.reshape(-1, 3)  # shape (N, 3)\n",
    "            Beff = self._get_Beff(t, x, apply_sinc)  # shape (N, 3)\n",
    "\n",
    "            # Precession: elementwise cross product over rows\n",
    "            dMdt = - self.gamma * np.cross(M, Beff)\n",
    "            # Relaxation terms\n",
    "            dMdt[:, 0] += -M[:, 0] / self.T2\n",
    "            dMdt[:, 1] += -M[:, 1] / self.T2\n",
    "            dMdt[:, 2] += -(M[:, 2] - self.M0) / self.T1\n",
    "            return dMdt.flatten()\n",
    "        else:\n",
    "            # Vectorized mode: M_flat shape is (N*3, m) where m is the number of simultaneous evaluations.\n",
    "            m = M_flat.shape[1]  # number of simultaneous evaluations\n",
    "            N = M_flat.size // (3 * m)  # number of spatial positions\n",
    "            M = M_flat.reshape(N, 3, m)  # shape (N, 3, m)\n",
    "            Beff = self._get_Beff(t, x, apply_sinc)  # shape (N, 3)\n",
    "            # Expand Beff to (N, 3, m) so that it can be used in np.cross:\n",
    "            Beff = Beff[:, :, np.newaxis]  # shape becomes (N, 3, 1) and broadcasts to (N, 3, m)\n",
    "\n",
    "            # Compute the precession term with cross product along axis 1:\n",
    "            dMdt = -self.gamma * np.cross(M, Beff, axis=1)  # result shape (N, 3, m)\n",
    "            # Relaxation terms\n",
    "            dMdt[:, 0, :] += -M[:, 0, :] / self.T2\n",
    "            dMdt[:, 1, :] += -M[:, 1, :] / self.T2\n",
    "            dMdt[:, 2, :] += -(M[:, 2, :] - self.M0) / self.T1\n",
    "            return dMdt.reshape(N * 3, m)\n",
    "\n",
    "    def solve_ivp(self, dt: float, tlin: np.ndarray, x: np.ndarray, apply_sinc=True, force_max_step_size=False, *args, **kwargs):\n",
    "        # Initialize the M0 vector for all positions in x\n",
    "        M0_init = np.zeros((x.size, 3))\n",
    "        M0_init[:, 2] = self.M0\n",
    "        M0_flat = M0_init.flatten()  \n",
    "\n",
    "        solve_kwargs = {\n",
    "            \"fun\": self._diff_eqn,\n",
    "            \"y0\": M0_flat,\n",
    "            \"t_span\": (tlin[0], tlin[-1]),\n",
    "            \"t_eval\": tlin,\n",
    "            \"args\": (x, apply_sinc,) + args,\n",
    "            \"rtol\": 1e-6,\n",
    "            \"atol\": 1e-9,\n",
    "            \"vectorized\": True\n",
    "        }\n",
    "        solve_kwargs.update(kwargs)\n",
    "\n",
    "        if force_max_step_size:\n",
    "            solve_kwargs[\"max_step\"] = dt\n",
    "\n",
    "        solution = solve_ivp(**solve_kwargs)\n",
    "                    \n",
    "        if not solution.success : warnings.warn(solution.message, UserWarning)\n",
    "\n",
    "        return solution\n",
    "    \n",
    "    def format_solution(self, solution, xs, time_where=None):\n",
    "        # Reshape to (xs, 3, ts)\n",
    "        Ms = solution.y.reshape(len(xs), 3, -1)\n",
    "        \n",
    "        if time_where is not None:\n",
    "            # Find the index corresponding to the given time.\n",
    "            index = np.where(np.isclose(solution.t, time_where))[0]\n",
    "            print(index)\n",
    "            \n",
    "            Mxs = Ms[:, 0, index]\n",
    "            Mys = Ms[:, 1, index]\n",
    "            Mzs = Ms[:, 2, index]\n",
    "            Mps = np.sqrt(Mxs**2 + Mys**2)\n",
    "        else:\n",
    "            Mxs = Ms[:, 0, :]\n",
    "            Mys = Ms[:, 1, :]\n",
    "            Mzs = Ms[:, 2, :]\n",
    "            Mps = np.sqrt(Mxs**2 + Mys**2)\n",
    "\n",
    "        return (Mxs, Mys, Mzs, Mps)\n"
   ]
  },
  {
   "cell_type": "code",
   "execution_count": 73,
   "metadata": {},
   "outputs": [],
   "source": [
    "from tqdm import tqdm"
   ]
  },
  {
   "cell_type": "code",
   "execution_count": 74,
   "metadata": {},
   "outputs": [],
   "source": [
    "def find_best_omega(solver, initial_bounds, bounds_step, tlin, dt, tolerance=1e-3) : \n",
    "    # Search space\n",
    "    omegas_test = np.linspace(initial_bounds[0], initial_bounds[1], bounds_step)\n",
    "    # Variables\n",
    "    best_omega, best_res = None, None\n",
    "\n",
    "    copy = solver.copy()\n",
    "\n",
    "    for omega in tqdm(omegas_test) : \n",
    "        copy.omega_1 = omega\n",
    "        #print(f\"Testing omega: {omega}, solver.omega_1: {solver.omega_1}\")\n",
    "        # Run simulation\n",
    "        solution = copy.solve_ivp(dt=dt, tlin=tlin, x=np.array(0), apply_sinc=True, force_max_step_size=False)\n",
    "        last_value = solution.y[2][-1]\n",
    "        #print(f\"omega: {omega}, last_value: {last_value}\")\n",
    "\n",
    "        # Save best result\n",
    "        if(best_omega is None) : \n",
    "            best_omega = omega\n",
    "            best_res = last_value\n",
    "        else : \n",
    "            diff = np.abs(best_res) - np.abs(last_value)\n",
    "            if(diff > 0) : \n",
    "                best_omega = omega\n",
    "                best_res = last_value\n",
    "\n",
    "    # Warn if tolerance not achieved.\n",
    "    if(best_res > tolerance) : warnings.warn(\"Did not reach tolerance.\", UserWarning)\n",
    "\n",
    "    return (best_omega, best_res)\n"
   ]
  },
  {
   "cell_type": "code",
   "execution_count": 75,
   "metadata": {},
   "outputs": [],
   "source": [
    "import matplotlib.pyplot as plt"
   ]
  },
  {
   "cell_type": "code",
   "execution_count": 81,
   "metadata": {},
   "outputs": [
    {
     "name": "stderr",
     "output_type": "stream",
     "text": [
      "100%|██████████| 1000/1000 [02:33<00:00,  6.49it/s]"
     ]
    },
    {
     "name": "stdout",
     "output_type": "stream",
     "text": [
      "6663.663663663663 -0.0007314590450063048\n"
     ]
    },
    {
     "name": "stderr",
     "output_type": "stream",
     "text": [
      "\n"
     ]
    }
   ],
   "source": [
    "tw = 2*1e-3 # s\n",
    "nz = 1.0\n",
    "trf = nz * tw\n",
    "\n",
    "length = 2*1e-2 # m\n",
    "Ls = np.arange(-length, length, 0.01e-2)\n",
    "\n",
    "lower_bound = -0.5 * trf\n",
    "upper_bound = 0.5 * trf\n",
    "\n",
    "dt = 0.0001*1e-3 # s\n",
    "tlin = np.arange(-2e-3, 2e-3, dt)\n",
    "\n",
    "solver = Bloch_Simulator(tw=tw, lower_bound=lower_bound, upper_bound=upper_bound)\n",
    "\n",
    "best_omega, best_res = find_best_omega(solver, initial_bounds=[0.1e4, 0.7e4], bounds_step=1000, tlin=tlin, dt=dt)\n",
    "\n",
    "print(best_omega, best_res)"
   ]
  },
  {
   "cell_type": "code",
   "execution_count": 82,
   "metadata": {},
   "outputs": [
    {
     "name": "stdout",
     "output_type": "stream",
     "text": [
      "[30000]\n"
     ]
    }
   ],
   "source": [
    "\n",
    "solver = Bloch_Simulator(omega_1=best_omega, tw=tw, lower_bound=lower_bound, upper_bound=upper_bound)\n",
    "\n",
    "Ms = []\n",
    "\n",
    "dt = 0.0001*1e-3 # s\n",
    "tlin = np.arange(-2e-3, 2e-3, dt)\n",
    "\n",
    "test = [0.001]\n",
    "\n",
    "solution = solver.solve_ivp(dt=dt, tlin=tlin, x=np.array(Ls), apply_sinc=True, force_max_step_size=False)\n",
    "\n",
    "Mxs, Mys, Mzs, Mps = solver.format_solution(solution, Ls, time_where=0.5*trf)\n"
   ]
  },
  {
   "cell_type": "code",
   "execution_count": 83,
   "metadata": {},
   "outputs": [
    {
     "data": {
      "text/plain": [
       "[<matplotlib.lines.Line2D at 0x16026515610>]"
      ]
     },
     "execution_count": 83,
     "metadata": {},
     "output_type": "execute_result"
    },
    {
     "data": {
      "image/png": "[encoded data removed]",
      "text/plain": [
       "<Figure size 1000x500 with 2 Axes>"
      ]
     },
     "metadata": {},
     "output_type": "display_data"
    }
   ],
   "source": [
    "\n",
    "fig, ax = plt.subplots(1,2, figsize=(2*5, 1*5))\n",
    "\n",
    "#ax[0].plot(solution.t, Mxs[0])\n",
    "#ax[0].plot(solution.t, Mys[0])\n",
    "#ax[1].plot(solution.t, Mzs[0])\n",
    "\n",
    "ax[0].plot(Ls, Mps)\n",
    "ax[1].plot(Ls, Mzs)"
   ]
  },
  {
   "cell_type": "code",
   "execution_count": 31,
   "metadata": {},
   "outputs": [
    {
     "name": "stdout",
     "output_type": "stream",
     "text": [
      "[1.         1.         1.         ... 0.99965528 0.99965528 0.99965528]\n"
     ]
    }
   ],
   "source": [
    "print(Ms[:,2][0])"
   ]
  },
  {
   "cell_type": "code",
   "execution_count": 130,
   "metadata": {},
   "outputs": [
    {
     "name": "stdout",
     "output_type": "stream",
     "text": [
      "[[0. 0. 0.]\n",
      " [0. 0. 0.]\n",
      " [0. 0. 0.]\n",
      " [0. 0. 0.]\n",
      " [0. 0. 0.]\n",
      " [0. 0. 0.]\n",
      " [0. 0. 0.]\n",
      " [0. 0. 0.]\n",
      " [0. 0. 0.]\n",
      " [0. 0. 0.]]\n",
      "[[0. 0. 1.]\n",
      " [0. 0. 1.]\n",
      " [0. 0. 1.]\n",
      " [0. 0. 1.]\n",
      " [0. 0. 1.]\n",
      " [0. 0. 1.]\n",
      " [0. 0. 1.]\n",
      " [0. 0. 1.]\n",
      " [0. 0. 1.]\n",
      " [0. 0. 1.]]\n"
     ]
    }
   ],
   "source": [
    "\n",
    "M0_init = np.zeros((10, 3))\n",
    "print(M0_init)\n",
    "M0_init[:,2] = 1\n",
    "print(M0_init)"
   ]
  },
  {
   "cell_type": "code",
   "execution_count": null,
   "metadata": {},
   "outputs": [],
   "source": []
  }
 ],
 "metadata": {
  "kernelspec": {
   "display_name": "Python 3",
   "language": "python",
   "name": "python3"
  },
  "language_info": {
   "codemirror_mode": {
    "name": "ipython",
    "version": 3
   },
   "file_extension": ".py",
   "mimetype": "text/x-python",
   "name": "python",
   "nbconvert_exporter": "python",
   "pygments_lexer": "ipython3",
   "version": "3.11.9"
  }
 },
 "nbformat": 4,
 "nbformat_minor": 2
}
