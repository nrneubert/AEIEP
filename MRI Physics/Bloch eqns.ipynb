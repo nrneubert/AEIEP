{
 "cells": [
  {
   "cell_type": "code",
   "execution_count": 2,
   "metadata": {},
   "outputs": [],
   "source": [
    "import numpy as np\n",
    "import matplotlib.pyplot as plt\n",
    "import scipy.constants as scc\n",
    "from scipy.integrate import odeint\n",
    "from scipy.integrate import solve_ivp"
   ]
  },
  {
   "cell_type": "code",
   "execution_count": 4,
   "metadata": {},
   "outputs": [
    {
     "name": "stdout",
     "output_type": "stream",
     "text": [
      "[0. 0. 0.]\n",
      "<class 'numpy.ndarray'>\n"
     ]
    }
   ],
   "source": [
    "print(np.zeros(3))\n",
    "print(type(np.zeros(3)))"
   ]
  },
  {
   "cell_type": "code",
   "execution_count": 10,
   "metadata": {},
   "outputs": [],
   "source": [
    "\n",
    "def bloch_simulator(t, M, gamma, T1, T2, M0, phi, omega_1, delta_omega, Beff) : \n",
    "\n",
    "    #Input\n",
    "    B1 = omega_1 / gamma\n",
    "    M = np.array(M)\n",
    "\n",
    "    #print(f\"t: {t}, M: {M}, Beff: {Beff}\")  # Check if x is correctly passed\n",
    "    # Precession\n",
    "    dMdt = - gamma * np.cross(M, Beff)\n",
    "\n",
    "    # Relaxation terms\n",
    "    dMdt[0] += - 1/T2 * M[0]\n",
    "    dMdt[1] += - 1/T2 * M[1]\n",
    "    dMdt[2] += - 1/T1 * (M[2] - M0)\n",
    "\n",
    "    return dMdt\n",
    "\n",
    "def get_omega_1(t, tw, nz=1) : \n",
    "    normal_val = 0.25*1e4\n",
    "\n",
    "    bound = 0.5*nz*tw\n",
    "    if(t >= -bound and t <= bound) : \n",
    "        normal_val *= np.sin(2*np.pi*t/tw)/(2*np.pi*t/tw)\n",
    "        return normal_val\n",
    "    else : \n",
    "        return 0 \n",
    "\n",
    "def get_Beff(x, phi, delta_omega, gamma, G, omega_1) : \n",
    "    B1 = omega_1 / gamma\n",
    "\n",
    "    Beff = np.array([   B1*np.cos(phi),\n",
    "                        B1*np.sin(phi),\n",
    "                        delta_omega/gamma                    \n",
    "    ])\n",
    "\n",
    "    Beff[2] += G * x\n",
    "\n",
    "    return Beff\n",
    "\n",
    "def bloch_simulator_wrapper(t, M, x) : \n",
    "    gamma = 2.675 * 1e8 # rad/(T*s)\n",
    "    T1 = 1000*1e-3\n",
    "    T2 = 1000*1e-3 \n",
    "    M0 = 1.0\n",
    "    phi = np.pi/4\n",
    "    delta_omega = 0.0 \n",
    "\n",
    "    delta_x = 2*1e-3 # mm\n",
    "    tw = 1e-3 # s\n",
    "    nz = 1\n",
    "    G = 2*np.pi/(gamma*tw*delta_x)\n",
    "\n",
    "    omega_1 = get_omega_1(t, tw, nz)\n",
    "    Beff = get_Beff(x, phi, delta_omega, gamma, G, omega_1)\n",
    "\n",
    "    return bloch_simulator(t, M, gamma, T1, T2, M0, phi, omega_1, delta_omega, Beff)"
   ]
  },
  {
   "cell_type": "code",
   "execution_count": 11,
   "metadata": {},
   "outputs": [
    {
     "name": "stdout",
     "output_type": "stream",
     "text": [
      "  message: The solver successfully reached the end of the integration interval.\n",
      "  success: True\n",
      "   status: 0\n",
      "        t: [-2.000e-03 -2.000e-03 ...  2.000e-03  2.000e-03]\n",
      "        y: [[ 0.000e+00  0.000e+00 ...  7.024e-01  7.024e-01]\n",
      "            [ 0.000e+00  0.000e+00 ... -7.024e-01 -7.024e-01]\n",
      "            [ 1.000e+00  1.000e+00 ...  9.881e-02  9.881e-02]]\n",
      "      sol: None\n",
      " t_events: None\n",
      " y_events: None\n",
      "     nfev: 239996\n",
      "     njev: 0\n",
      "      nlu: 0\n"
     ]
    }
   ],
   "source": [
    "#gamma = 2.675 * 1e8 # rad/(T*s)\n",
    "#R1 = 1/(1000*1e-3) # s\n",
    "#R2 = 1/(1000*1e-3) # s\n",
    "#M0 = 1.0\n",
    "#phi = 0.0\n",
    "#omega_1 = 4 * 1e6 # Hz\n",
    "#delta_omega = 0.0 \n",
    "\n",
    "dt = 0.0001*1e-3 # s\n",
    "tlin = np.arange(-2e-3, 2e-3, dt)\n",
    "M0_init = [0.0, 0.0, 1.0]\n",
    "solution = solve_ivp(fun=bloch_simulator_wrapper, y0=M0_init, t_span=(min(tlin), max(tlin)), t_eval=tlin, max_step=dt, args=(0,))\n",
    "\n",
    "print(solution)"
   ]
  },
  {
   "cell_type": "code",
   "execution_count": 17,
   "metadata": {},
   "outputs": [
    {
     "name": "stdout",
     "output_type": "stream",
     "text": [
      "<class 'scipy.integrate._ivp.ivp.OdeResult'>\n"
     ]
    }
   ],
   "source": [
    "print(type(solution))"
   ]
  },
  {
   "cell_type": "code",
   "execution_count": 13,
   "metadata": {},
   "outputs": [
    {
     "name": "stdout",
     "output_type": "stream",
     "text": [
      "(3, 40000)\n",
      "[False False False ... False False False]\n"
     ]
    }
   ],
   "source": [
    "print(np.shape(solution.y))\n",
    "print(solution.y[1] == np.ones_like(solution.y[2]))"
   ]
  },
  {
   "cell_type": "code",
   "execution_count": 14,
   "metadata": {},
   "outputs": [
    {
     "name": "stdout",
     "output_type": "stream",
     "text": [
      "0.09881358075976447\n"
     ]
    },
    {
     "data": {
      "image/png": "[encoded data removed]",
      "text/plain": [
       "<Figure size 640x480 with 1 Axes>"
      ]
     },
     "metadata": {},
     "output_type": "display_data"
    }
   ],
   "source": [
    "plt.plot(tlin, solution.y[2], '-')\n",
    "#plt.xlim(1e-3 - 50*dt, 1e-3 + 50*dt)\n",
    "\n",
    "print(solution.y[2][-1])\n",
    "\n",
    "# PI PULSE: 0.5 E4\n",
    "# PI/2 PULSE: 0.25 E4"
   ]
  },
  {
   "cell_type": "code",
   "execution_count": 278,
   "metadata": {},
   "outputs": [
    {
     "name": "stdout",
     "output_type": "stream",
     "text": [
      "[ 0.81931544 -0.56366807  0.10139434]\n"
     ]
    }
   ],
   "source": [
    "index = np.where(np.isclose(solution.t, 0.5e-3))[0][0]\n",
    "print(solution.y[:,index])\n"
   ]
  },
  {
   "cell_type": "code",
   "execution_count": 286,
   "metadata": {},
   "outputs": [],
   "source": [
    "length = 10*1e-2 # m\n",
    "Ls = np.arange(-length, length, 0.5e-2)\n",
    "\n",
    "Ms = []\n",
    "\n",
    "for x in Ls : \n",
    "    solution = solve_ivp(fun=bloch_simulator_wrapper, y0=M0_init, t_span=(min(tlin), max(tlin)), t_eval=tlin, max_step=dt, args=(x,))\n",
    "\n",
    "    index = np.where(np.isclose(solution.t, 0.5e-3))[0][0]\n",
    "\n",
    "    Ms.append( solution.y[:,index] )\n"
   ]
  },
  {
   "cell_type": "code",
   "execution_count": 289,
   "metadata": {},
   "outputs": [
    {
     "data": {
      "text/plain": [
       "(0.0, 0.1)"
      ]
     },
     "execution_count": 289,
     "metadata": {},
     "output_type": "execute_result"
    },
    {
     "data": {
      "image/png": "[encoded data removed]",
      "text/plain": [
       "<Figure size 640x480 with 1 Axes>"
      ]
     },
     "metadata": {},
     "output_type": "display_data"
    }
   ],
   "source": [
    "Ms = np.array(Ms)\n",
    "\n",
    "Mps = np.sqrt(Ms[:,0]**2 + Ms[:,1]**2)\n",
    "\n",
    "plt.plot(Ls, Mps, 'o-')\n",
    "plt.ylim(0.0, 0.1)"
   ]
  },
  {
   "cell_type": "code",
   "execution_count": 1,
   "metadata": {},
   "outputs": [],
   "source": [
    "import warnings\n",
    "import numpy as np\n",
    "from numpy._typing._array_like import NDArray\n",
    "\n",
    "\n",
    "class Bloch_Simulator() : \n",
    "                                        \n",
    "    def __init__(self, gamma = 2.675 * 1e8,         # rad/(T*s) \n",
    "                    T1 = 1000*1e-3, T2=1000*1e-3,   # s \n",
    "                    M0 = 1.0, \n",
    "                    phi = 0.0, \n",
    "                    omega_1 = 0.25 * 1e4,           # 1/s \n",
    "                    delta_omega = 0.0,              # 1/s \n",
    "                    nz = 1.0,                       # nmb. \n",
    "                    tw = 1 * 1e-3,                  # s \n",
    "                    G = None, \n",
    "                    lower_bound=-np.inf, upper_bound=np.inf\n",
    "                )  -> None:\n",
    "        # Constants\n",
    "        self.delta_x = 2 * 1e-3                     # m\n",
    "        # Parameters\n",
    "        self.gamma = gamma\n",
    "        self.T1 = T1\n",
    "        self.T2 = T2\n",
    "        self.M0 = M0\n",
    "        self.phi = phi\n",
    "        self.omega_1 = omega_1\n",
    "        self.delta_omega = delta_omega\n",
    "        self.nz = nz\n",
    "        self.tw = tw\n",
    "        if(G) : self.G = 2*np.pi/(self.gamma*self.tw*self.delta_x)\n",
    "        else :  self.G = G\n",
    "        # Pulse bounds\n",
    "        self.lower_bound = lower_bound\n",
    "        self.upper_bound = upper_bound\n",
    "        # Logged information\n",
    "        self.last_solution = None\n",
    "\n",
    "    def _get_Beff(self, t: float, x: float, apply_sinc: bool)  -> np.ndarray:\n",
    "        B1 = self._get_omega1(t) / self.gamma\n",
    "        Beff = np.zeros(3)\n",
    "        \n",
    "        Beff[0] += B1*np.cos(self.phi)\n",
    "        Beff[1] += B1*np.sin(self.phi)\n",
    "        Beff[2] += self.delta_omega/self.gamma\n",
    "\n",
    "        if(apply_sinc) : Beff *= np.sin(2*np.pi*t/self.tw)/(2*np.pi*t/self.tw)\n",
    "\n",
    "        if(x) : Beff[2] += self.G * x\n",
    "\n",
    "        return Beff\n",
    "\n",
    "\n",
    "    def _get_omega1(self, t: float) -> float: \n",
    "        \n",
    "        if(t >= self.lower_bound and t <= self.upper_bound) : \n",
    "            return self.omega_1\n",
    "        else : \n",
    "            return 0\n",
    "    \n",
    "    def _diff_eqn(self, t: float, M: list, x: float, apply_sinc: bool) -> np.ndarray: \n",
    "        \n",
    "        \n",
    "        M = np.array(M)\n",
    "        Beff = self._get_Beff(t, x, apply_sinc)\n",
    "        \n",
    "        # Precession\n",
    "        dMdt = - self.gamma * np.cross(M, Beff)\n",
    "\n",
    "        # Relaxation terms\n",
    "        dMdt[0] += - 1/self.T2 * M[0]\n",
    "        dMdt[1] += - 1/self.T2 * M[1]\n",
    "        dMdt[2] += - 1/self.T1 * (M[2] - self.M0)\n",
    "\n",
    "        return dMdt\n",
    "\n",
    "    def solve_ivp(self, dt: float, tlin: list, x: float, apply_sinc=True, force_max_step_size=False) : # -> OdeResult\n",
    "        M0_init = np.array([0.0, 0.0, self.M0])\n",
    "        step_size = dt if force_max_step_size else None\n",
    "\n",
    "        print(step_size)\n",
    "\n",
    "        solution = solve_ivp(fun=self._diff_eqn, \n",
    "                             y0=M0_init, \n",
    "                             t_span=(min(tlin), max(tlin)), \n",
    "                             t_eval=tlin, \n",
    "                             max_step=step_size,\n",
    "                             args=(x, apply_sinc,)\n",
    "                             )\n",
    "                    \n",
    "        self.last_solution = solution\n",
    "\n",
    "        if not solution.success : warnings.warn(solution.message, UserWarning)\n",
    "\n",
    "        return solution\n",
    "        "
   ]
  },
  {
   "cell_type": "code",
   "execution_count": 5,
   "metadata": {},
   "outputs": [
    {
     "name": "stdout",
     "output_type": "stream",
     "text": [
      "1.0000000000000001e-07\n"
     ]
    }
   ],
   "source": [
    "\n",
    "gamma = 2.675 * 1e8 # rad/(T*s)\n",
    "T1 = 1000*1e-3\n",
    "T2 = 1000*1e-3 \n",
    "M0 = 1.0\n",
    "phi = np.pi/4\n",
    "delta_omega = 0.0 \n",
    "\n",
    "delta_x = 2*1e-3 # mm\n",
    "tw = 1e-3 # s\n",
    "nz = 1\n",
    "bound = 0.5*nz*tw \n",
    "\n",
    "G = 2*np.pi/(gamma*tw*delta_x)\n",
    "\n",
    "solver = Bloch_Simulator(lower_bound=-bound, upper_bound=bound)\n",
    "\n",
    "dt = 0.0001*1e-3 # s\n",
    "tlin = np.arange(-2e-3, 2e-3, dt)\n",
    "M0_init = [0.0, 0.0, 1.0]\n",
    "\n",
    "solution = solver.solve_ivp(dt=dt, tlin=tlin, x=0, apply_sinc=True, force_max_step_size=True)"
   ]
  },
  {
   "cell_type": "code",
   "execution_count": 6,
   "metadata": {},
   "outputs": [
    {
     "name": "stdout",
     "output_type": "stream",
     "text": [
      "(3, 40000)\n",
      "[False False False ... False False False]\n"
     ]
    }
   ],
   "source": [
    "print(np.shape(solution.y))\n",
    "print(solution.y[1] == np.ones_like(solution.y[2]))"
   ]
  },
  {
   "cell_type": "code",
   "execution_count": 7,
   "metadata": {},
   "outputs": [
    {
     "name": "stdout",
     "output_type": "stream",
     "text": [
      "0.09881358075976675\n"
     ]
    },
    {
     "data": {
      "image/png": "[encoded data removed]",
      "text/plain": [
       "<Figure size 640x480 with 1 Axes>"
      ]
     },
     "metadata": {},
     "output_type": "display_data"
    }
   ],
   "source": [
    "plt.plot(tlin, solution.y[2], '-')\n",
    "#plt.xlim(1e-3 - 50*dt, 1e-3 + 50*dt)\n",
    "\n",
    "print(solution.y[2][-1])"
   ]
  },
  {
   "cell_type": "code",
   "execution_count": null,
   "metadata": {},
   "outputs": [],
   "source": []
  }
 ],
 "metadata": {
  "kernelspec": {
   "display_name": "Python 3",
   "language": "python",
   "name": "python3"
  },
  "language_info": {
   "codemirror_mode": {
    "name": "ipython",
    "version": 3
   },
   "file_extension": ".py",
   "mimetype": "text/x-python",
   "name": "python",
   "nbconvert_exporter": "python",
   "pygments_lexer": "ipython3",
   "version": "3.12.3"
  }
 },
 "nbformat": 4,
 "nbformat_minor": 2
}
